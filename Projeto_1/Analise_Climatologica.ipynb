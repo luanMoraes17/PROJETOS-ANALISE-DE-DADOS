{
 "cells": [
  {
   "cell_type": "markdown",
   "id": "fa7b7a7c",
   "metadata": {},
   "source": [
    "1 - CÁLCULO DA MÉDIA E DESVIO PADRÃO"
   ]
  },
  {
   "cell_type": "code",
   "execution_count": 1,
   "id": "f29877ad",
   "metadata": {},
   "outputs": [
    {
     "name": "stdout",
     "output_type": "stream",
     "text": [
      "Média da temperatura: 24.52\n",
      "Desvio padrão da temperatura: 4.77\n",
      "Média da precipitação: 4.63\n",
      "Desvio padrão da precipitação: 5.29\n"
     ]
    }
   ],
   "source": [
    "import numpy as np\n",
    "\n",
    "#carregar os dados\n",
    "dados = np.loadtxt('dados_climaticos.csv', delimiter=',', skiprows=1)\n",
    "media_temp = np.mean(dados[:,0])\n",
    "desvio_temp = np.std(dados[:,0])\n",
    "media_precip = np.mean(dados[:,1])\n",
    "desvio_precip = np.std(dados[:,1])\n",
    "\n",
    "print(f'Média da temperatura: {media_temp:.2f}')\n",
    "print(f'Desvio padrão da temperatura: {desvio_temp:.2f}')\n",
    "print(f'Média da precipitação: {media_precip:.2f}')\n",
    "print(f'Desvio padrão da precipitação: {desvio_precip:.2f}')"
   ]
  },
  {
   "cell_type": "markdown",
   "id": "77c98705",
   "metadata": {},
   "source": [
    "2 - DIAS CHUVOSOS"
   ]
  },
  {
   "cell_type": "code",
   "execution_count": 2,
   "id": "0511823f",
   "metadata": {},
   "outputs": [
    {
     "name": "stdout",
     "output_type": "stream",
     "text": [
      "Dias chuvosos (precipitação > 10) 49\n"
     ]
    }
   ],
   "source": [
    "dias_chuvosos = np.sum((dados[:,1] > 10))\n",
    "print(f'Dias chuvosos (precipitação > 10) {dias_chuvosos}')"
   ]
  },
  {
   "cell_type": "markdown",
   "id": "1dfb7737",
   "metadata": {},
   "source": [
    "3 - VARIAÇÃO DE TEMPERATURA"
   ]
  },
  {
   "cell_type": "code",
   "execution_count": 3,
   "id": "35a312a2",
   "metadata": {},
   "outputs": [
    {
     "data": {
      "text/plain": [
       "[np.float64(17.0),\n",
       " np.float64(19.0),\n",
       " np.float64(21.0),\n",
       " np.float64(22.0),\n",
       " np.float64(19.0),\n",
       " np.float64(19.0),\n",
       " np.float64(27.0),\n",
       " np.float64(22.0),\n",
       " np.float64(27.0),\n",
       " np.float64(20.0),\n",
       " np.float64(17.0),\n",
       " np.float64(15.0),\n",
       " np.float64(8.0)]"
      ]
     },
     "execution_count": 3,
     "metadata": {},
     "output_type": "execute_result"
    }
   ],
   "source": [
    "#TEMP MAX - TEMP MIN\n",
    "#POR CADA 30 DIAS\n",
    "#SOBRE TODOS OS MESES DO ANO(365)\n",
    "\n",
    "amplitudes = [np.max(dados[i:i+30,0]) - np.min(dados[i:i+30,0]) for i in range(0, 365, 30)]\n",
    "amplitudes\n"
   ]
  },
  {
   "cell_type": "code",
   "execution_count": 4,
   "id": "f61d0748",
   "metadata": {},
   "outputs": [],
   "source": [
    "# 4 - PRECIPITAÇÃO MENSAL"
   ]
  },
  {
   "cell_type": "code",
   "execution_count": 6,
   "id": "10b92584",
   "metadata": {},
   "outputs": [
    {
     "name": "stdout",
     "output_type": "stream",
     "text": [
      "[np.float64(172.0), np.float64(208.0), np.float64(201.0), np.float64(129.0), np.float64(78.0), np.float64(92.0), np.float64(106.0), np.float64(127.0), np.float64(145.0), np.float64(130.0), np.float64(130.0), np.float64(159.0), np.float64(13.0)]\n"
     ]
    }
   ],
   "source": [
    "precip_mensal = [np.sum(dados[i:i+30, 1]) for i in range(0, 365, 30)]\n",
    "print(precip_mensal)"
   ]
  }
 ],
 "metadata": {
  "kernelspec": {
   "display_name": "luan",
   "language": "python",
   "name": "python3"
  },
  "language_info": {
   "codemirror_mode": {
    "name": "ipython",
    "version": 3
   },
   "file_extension": ".py",
   "mimetype": "text/x-python",
   "name": "python",
   "nbconvert_exporter": "python",
   "pygments_lexer": "ipython3",
   "version": "3.13.3"
  }
 },
 "nbformat": 4,
 "nbformat_minor": 5
}
